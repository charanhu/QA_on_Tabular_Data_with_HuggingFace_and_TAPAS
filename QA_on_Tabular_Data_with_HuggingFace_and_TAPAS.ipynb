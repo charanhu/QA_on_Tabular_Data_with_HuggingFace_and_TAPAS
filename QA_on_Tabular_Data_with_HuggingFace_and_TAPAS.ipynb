{
  "nbformat": 4,
  "nbformat_minor": 0,
  "metadata": {
    "colab": {
      "provenance": []
    },
    "kernelspec": {
      "name": "python3",
      "display_name": "Python 3"
    },
    "language_info": {
      "name": "python"
    },
    "accelerator": "GPU",
    "gpuClass": "standard"
  },
  "cells": [
    {
      "cell_type": "markdown",
      "source": [
        "# QA_on_Tabular_Data_with_HuggingFace_and_TAPAS.ipynb"
      ],
      "metadata": {
        "id": "oj4tYN2ONu3H"
      }
    },
    {
      "cell_type": "code",
      "execution_count": null,
      "metadata": {
        "id": "6OHQ1YHGNhAi"
      },
      "outputs": [],
      "source": [
        "# QA_on_Tabular_Data_with_HuggingFace_and_TAPAS.ipynb"
      ]
    },
    {
      "cell_type": "markdown",
      "source": [
        "## Installs"
      ],
      "metadata": {
        "id": "zggZTDWWOCVs"
      }
    },
    {
      "cell_type": "code",
      "source": [
        "!pip install -q transformers==4.4.2"
      ],
      "metadata": {
        "colab": {
          "base_uri": "https://localhost:8080/"
        },
        "id": "NCsbz0UCOEoH",
        "outputId": "4ba82efd-6d86-4a1a-a3ea-d1dea42cfdc5"
      },
      "execution_count": null,
      "outputs": [
        {
          "output_type": "stream",
          "name": "stdout",
          "text": [
            "\u001b[K     |████████████████████████████████| 2.0 MB 21.3 MB/s \n",
            "\u001b[K     |████████████████████████████████| 880 kB 71.3 MB/s \n",
            "\u001b[K     |████████████████████████████████| 3.3 MB 63.9 MB/s \n",
            "\u001b[?25h  Building wheel for sacremoses (setup.py) ... \u001b[?25l\u001b[?25hdone\n"
          ]
        }
      ]
    },
    {
      "cell_type": "code",
      "source": [
        "import torch\n",
        "torch.__version__"
      ],
      "metadata": {
        "colab": {
          "base_uri": "https://localhost:8080/",
          "height": 35
        },
        "id": "TbIdNbjVONON",
        "outputId": "a02ba625-cd32-4aca-dd6c-d054065c9f2e"
      },
      "execution_count": null,
      "outputs": [
        {
          "output_type": "execute_result",
          "data": {
            "text/plain": [
              "'1.13.0+cu116'"
            ],
            "application/vnd.google.colaboratory.intrinsic+json": {
              "type": "string"
            }
          },
          "metadata": {},
          "execution_count": 2
        }
      ]
    },
    {
      "cell_type": "code",
      "source": [
        "!!pip install torch-scatter -f https://pytorch-geometric.com/whl/torch-1.8.0+cu101.html"
      ],
      "metadata": {
        "colab": {
          "base_uri": "https://localhost:8080/"
        },
        "id": "Pa2dDNEIOTdt",
        "outputId": "5a3b6e9f-5cd3-440f-c745-11b863c5a2aa"
      },
      "execution_count": null,
      "outputs": [
        {
          "output_type": "execute_result",
          "data": {
            "text/plain": [
              "['Looking in indexes: https://pypi.org/simple, https://us-python.pkg.dev/colab-wheels/public/simple/',\n",
              " 'Looking in links: https://pytorch-geometric.com/whl/torch-1.8.0+cu101.html',\n",
              " 'Collecting torch-scatter',\n",
              " '  Downloading torch_scatter-2.1.0.tar.gz (106 kB)',\n",
              " '\\x1b[?25l',\n",
              " '\\x1b[K     |███                             | 10 kB 35.3 MB/s eta 0:00:01',\n",
              " '\\x1b[K     |██████▏                         | 20 kB 43.8 MB/s eta 0:00:01',\n",
              " '\\x1b[K     |█████████▏                      | 30 kB 53.2 MB/s eta 0:00:01',\n",
              " '\\x1b[K     |████████████▎                   | 40 kB 24.4 MB/s eta 0:00:01',\n",
              " '\\x1b[K     |███████████████▍                | 51 kB 27.7 MB/s eta 0:00:01',\n",
              " '\\x1b[K     |██████████████████▍             | 61 kB 31.6 MB/s eta 0:00:01',\n",
              " '\\x1b[K     |█████████████████████▌          | 71 kB 21.6 MB/s eta 0:00:01',\n",
              " '\\x1b[K     |████████████████████████▌       | 81 kB 23.6 MB/s eta 0:00:01',\n",
              " '\\x1b[K     |███████████████████████████▋    | 92 kB 25.8 MB/s eta 0:00:01',\n",
              " '\\x1b[K     |██████████████████████████████▊ | 102 kB 26.4 MB/s eta 0:00:01',\n",
              " '\\x1b[K     |████████████████████████████████| 106 kB 26.4 MB/s ',\n",
              " '\\x1b[?25hBuilding wheels for collected packages: torch-scatter',\n",
              " '  Building wheel for torch-scatter (setup.py) ... \\x1b[?25l\\x1b[?25hdone',\n",
              " '  Created wheel for torch-scatter: filename=torch_scatter-2.1.0-cp38-cp38-linux_x86_64.whl size=3398133 sha256=c724e163c4ee7e5de051d1b9c69d3b8908cfcabde220cac10ce592957df03d4b',\n",
              " '  Stored in directory: /root/.cache/pip/wheels/41/7f/4f/cf072bea3b6efe4561de2db3603ebbd8718c134c24caab8281',\n",
              " 'Successfully built torch-scatter',\n",
              " 'Installing collected packages: torch-scatter',\n",
              " 'Successfully installed torch-scatter-2.1.0']"
            ]
          },
          "metadata": {},
          "execution_count": 3
        }
      ]
    },
    {
      "cell_type": "markdown",
      "source": [
        "## Importing Libraries"
      ],
      "metadata": {
        "id": "FYP3ujz2N3hN"
      }
    },
    {
      "cell_type": "code",
      "source": [
        "from transformers import pipeline"
      ],
      "metadata": {
        "id": "nXZL37L1N2TX"
      },
      "execution_count": null,
      "outputs": []
    },
    {
      "cell_type": "code",
      "source": [
        "import pandas as pd"
      ],
      "metadata": {
        "id": "q8Dg3CX3dcux"
      },
      "execution_count": 1,
      "outputs": []
    },
    {
      "cell_type": "code",
      "source": [
        "tqa = pipeline(task=\"table-question-answering\", \n",
        "               model=\"google/tapas-base-finetuned-wtq\")"
      ],
      "metadata": {
        "id": "lpSkiz-4OfOm"
      },
      "execution_count": null,
      "outputs": []
    },
    {
      "cell_type": "markdown",
      "source": [
        "## Import Data"
      ],
      "metadata": {
        "id": "Z7zfIWuWOxVV"
      }
    },
    {
      "cell_type": "code",
      "source": [
        "table = pd.read_csv(\"https://raw.githubusercontent.com/bhattbhavesh91/table-question-answering-demo/main/data.csv\")\n",
        "\n",
        "# table = pd.read_csv(\"data.csv\")"
      ],
      "metadata": {
        "id": "rCJiyHjqOzDW"
      },
      "execution_count": 2,
      "outputs": []
    },
    {
      "cell_type": "code",
      "source": [
        "# save the table as a csv file\n",
        "table.to_csv(\"data.csv\", index=False)"
      ],
      "metadata": {
        "id": "DEw_EPTldimp"
      },
      "execution_count": 3,
      "outputs": []
    },
    {
      "cell_type": "code",
      "source": [
        "table = table.astype(str)"
      ],
      "metadata": {
        "id": "cuxFChvMTzph"
      },
      "execution_count": null,
      "outputs": []
    },
    {
      "cell_type": "code",
      "source": [
        "table.head()"
      ],
      "metadata": {
        "colab": {
          "base_uri": "https://localhost:8080/",
          "height": 206
        },
        "id": "0IdGC-yFTZNj",
        "outputId": "9bfec8f1-3586-4a18-f0d3-b150381e5ac9"
      },
      "execution_count": null,
      "outputs": [
        {
          "output_type": "execute_result",
          "data": {
            "text/plain": [
              "  Pos              Player       Team       Span Innings   Runs Highest Score  \\\n",
              "0   1    Sachin Tendulkar      India  1989-2012     452  18426           200   \n",
              "1   2    Kumar Sangakkara  Sri Lanka  2000-2015     380  14234           169   \n",
              "2   3       Ricky Ponting  Australia  1995-2012     365  13704           164   \n",
              "3   4   Sanath Jayasuriya  Sri Lanka  1989-2011     433  13430           189   \n",
              "4   5  Mahela Jayawardene  Sri Lanka  1998-2015     418  12650           144   \n",
              "\n",
              "  Average Strike Rate  \n",
              "0   44.83       86.23  \n",
              "1   41.98       78.86  \n",
              "2   42.03       80.39  \n",
              "3   32.36        91.2  \n",
              "4   33.37       78.96  "
            ],
            "text/html": [
              "\n",
              "  <div id=\"df-e9691634-22cc-4e80-9345-b20c615c21f4\">\n",
              "    <div class=\"colab-df-container\">\n",
              "      <div>\n",
              "<style scoped>\n",
              "    .dataframe tbody tr th:only-of-type {\n",
              "        vertical-align: middle;\n",
              "    }\n",
              "\n",
              "    .dataframe tbody tr th {\n",
              "        vertical-align: top;\n",
              "    }\n",
              "\n",
              "    .dataframe thead th {\n",
              "        text-align: right;\n",
              "    }\n",
              "</style>\n",
              "<table border=\"1\" class=\"dataframe\">\n",
              "  <thead>\n",
              "    <tr style=\"text-align: right;\">\n",
              "      <th></th>\n",
              "      <th>Pos</th>\n",
              "      <th>Player</th>\n",
              "      <th>Team</th>\n",
              "      <th>Span</th>\n",
              "      <th>Innings</th>\n",
              "      <th>Runs</th>\n",
              "      <th>Highest Score</th>\n",
              "      <th>Average</th>\n",
              "      <th>Strike Rate</th>\n",
              "    </tr>\n",
              "  </thead>\n",
              "  <tbody>\n",
              "    <tr>\n",
              "      <th>0</th>\n",
              "      <td>1</td>\n",
              "      <td>Sachin Tendulkar</td>\n",
              "      <td>India</td>\n",
              "      <td>1989-2012</td>\n",
              "      <td>452</td>\n",
              "      <td>18426</td>\n",
              "      <td>200</td>\n",
              "      <td>44.83</td>\n",
              "      <td>86.23</td>\n",
              "    </tr>\n",
              "    <tr>\n",
              "      <th>1</th>\n",
              "      <td>2</td>\n",
              "      <td>Kumar Sangakkara</td>\n",
              "      <td>Sri Lanka</td>\n",
              "      <td>2000-2015</td>\n",
              "      <td>380</td>\n",
              "      <td>14234</td>\n",
              "      <td>169</td>\n",
              "      <td>41.98</td>\n",
              "      <td>78.86</td>\n",
              "    </tr>\n",
              "    <tr>\n",
              "      <th>2</th>\n",
              "      <td>3</td>\n",
              "      <td>Ricky Ponting</td>\n",
              "      <td>Australia</td>\n",
              "      <td>1995-2012</td>\n",
              "      <td>365</td>\n",
              "      <td>13704</td>\n",
              "      <td>164</td>\n",
              "      <td>42.03</td>\n",
              "      <td>80.39</td>\n",
              "    </tr>\n",
              "    <tr>\n",
              "      <th>3</th>\n",
              "      <td>4</td>\n",
              "      <td>Sanath Jayasuriya</td>\n",
              "      <td>Sri Lanka</td>\n",
              "      <td>1989-2011</td>\n",
              "      <td>433</td>\n",
              "      <td>13430</td>\n",
              "      <td>189</td>\n",
              "      <td>32.36</td>\n",
              "      <td>91.2</td>\n",
              "    </tr>\n",
              "    <tr>\n",
              "      <th>4</th>\n",
              "      <td>5</td>\n",
              "      <td>Mahela Jayawardene</td>\n",
              "      <td>Sri Lanka</td>\n",
              "      <td>1998-2015</td>\n",
              "      <td>418</td>\n",
              "      <td>12650</td>\n",
              "      <td>144</td>\n",
              "      <td>33.37</td>\n",
              "      <td>78.96</td>\n",
              "    </tr>\n",
              "  </tbody>\n",
              "</table>\n",
              "</div>\n",
              "      <button class=\"colab-df-convert\" onclick=\"convertToInteractive('df-e9691634-22cc-4e80-9345-b20c615c21f4')\"\n",
              "              title=\"Convert this dataframe to an interactive table.\"\n",
              "              style=\"display:none;\">\n",
              "        \n",
              "  <svg xmlns=\"http://www.w3.org/2000/svg\" height=\"24px\"viewBox=\"0 0 24 24\"\n",
              "       width=\"24px\">\n",
              "    <path d=\"M0 0h24v24H0V0z\" fill=\"none\"/>\n",
              "    <path d=\"M18.56 5.44l.94 2.06.94-2.06 2.06-.94-2.06-.94-.94-2.06-.94 2.06-2.06.94zm-11 1L8.5 8.5l.94-2.06 2.06-.94-2.06-.94L8.5 2.5l-.94 2.06-2.06.94zm10 10l.94 2.06.94-2.06 2.06-.94-2.06-.94-.94-2.06-.94 2.06-2.06.94z\"/><path d=\"M17.41 7.96l-1.37-1.37c-.4-.4-.92-.59-1.43-.59-.52 0-1.04.2-1.43.59L10.3 9.45l-7.72 7.72c-.78.78-.78 2.05 0 2.83L4 21.41c.39.39.9.59 1.41.59.51 0 1.02-.2 1.41-.59l7.78-7.78 2.81-2.81c.8-.78.8-2.07 0-2.86zM5.41 20L4 18.59l7.72-7.72 1.47 1.35L5.41 20z\"/>\n",
              "  </svg>\n",
              "      </button>\n",
              "      \n",
              "  <style>\n",
              "    .colab-df-container {\n",
              "      display:flex;\n",
              "      flex-wrap:wrap;\n",
              "      gap: 12px;\n",
              "    }\n",
              "\n",
              "    .colab-df-convert {\n",
              "      background-color: #E8F0FE;\n",
              "      border: none;\n",
              "      border-radius: 50%;\n",
              "      cursor: pointer;\n",
              "      display: none;\n",
              "      fill: #1967D2;\n",
              "      height: 32px;\n",
              "      padding: 0 0 0 0;\n",
              "      width: 32px;\n",
              "    }\n",
              "\n",
              "    .colab-df-convert:hover {\n",
              "      background-color: #E2EBFA;\n",
              "      box-shadow: 0px 1px 2px rgba(60, 64, 67, 0.3), 0px 1px 3px 1px rgba(60, 64, 67, 0.15);\n",
              "      fill: #174EA6;\n",
              "    }\n",
              "\n",
              "    [theme=dark] .colab-df-convert {\n",
              "      background-color: #3B4455;\n",
              "      fill: #D2E3FC;\n",
              "    }\n",
              "\n",
              "    [theme=dark] .colab-df-convert:hover {\n",
              "      background-color: #434B5C;\n",
              "      box-shadow: 0px 1px 3px 1px rgba(0, 0, 0, 0.15);\n",
              "      filter: drop-shadow(0px 1px 2px rgba(0, 0, 0, 0.3));\n",
              "      fill: #FFFFFF;\n",
              "    }\n",
              "  </style>\n",
              "\n",
              "      <script>\n",
              "        const buttonEl =\n",
              "          document.querySelector('#df-e9691634-22cc-4e80-9345-b20c615c21f4 button.colab-df-convert');\n",
              "        buttonEl.style.display =\n",
              "          google.colab.kernel.accessAllowed ? 'block' : 'none';\n",
              "\n",
              "        async function convertToInteractive(key) {\n",
              "          const element = document.querySelector('#df-e9691634-22cc-4e80-9345-b20c615c21f4');\n",
              "          const dataTable =\n",
              "            await google.colab.kernel.invokeFunction('convertToInteractive',\n",
              "                                                     [key], {});\n",
              "          if (!dataTable) return;\n",
              "\n",
              "          const docLinkHtml = 'Like what you see? Visit the ' +\n",
              "            '<a target=\"_blank\" href=https://colab.research.google.com/notebooks/data_table.ipynb>data table notebook</a>'\n",
              "            + ' to learn more about interactive tables.';\n",
              "          element.innerHTML = '';\n",
              "          dataTable['output_type'] = 'display_data';\n",
              "          await google.colab.output.renderOutput(dataTable, element);\n",
              "          const docLink = document.createElement('div');\n",
              "          docLink.innerHTML = docLinkHtml;\n",
              "          element.appendChild(docLink);\n",
              "        }\n",
              "      </script>\n",
              "    </div>\n",
              "  </div>\n",
              "  "
            ]
          },
          "metadata": {},
          "execution_count": 12
        }
      ]
    },
    {
      "cell_type": "markdown",
      "source": [
        "## Test"
      ],
      "metadata": {
        "id": "L6gRaKmkSuHq"
      }
    },
    {
      "cell_type": "code",
      "source": [
        "query  = \"Who has maximun average?\"\n",
        "print(tqa(table=table, query=query)[\"answer\"])"
      ],
      "metadata": {
        "colab": {
          "base_uri": "https://localhost:8080/"
        },
        "id": "w-6ILI6RSq60",
        "outputId": "d15e934c-c4b7-4779-92d6-e85c14dbc893"
      },
      "execution_count": null,
      "outputs": [
        {
          "output_type": "stream",
          "name": "stdout",
          "text": [
            "Virat Kohli\n"
          ]
        }
      ]
    },
    {
      "cell_type": "code",
      "source": [
        "query = [\"Virat Kohli's highest score?\", \n",
        "         \"Which team does he play for?\"]\n",
        "answer = tqa(table=table, query=query)\n",
        "for ans in answer:\n",
        "    print(ans[\"answer\"])"
      ],
      "metadata": {
        "colab": {
          "base_uri": "https://localhost:8080/"
        },
        "id": "q5lXOh_GTV9N",
        "outputId": "ba73742d-aa9e-49e4-e2b7-e1d0d84955a8"
      },
      "execution_count": null,
      "outputs": [
        {
          "output_type": "stream",
          "name": "stdout",
          "text": [
            "AVERAGE > 183\n",
            "India\n"
          ]
        }
      ]
    },
    {
      "cell_type": "code",
      "source": [
        "def q_and_a():\n",
        "  sentence  = input(\"Your query:\")\n",
        "  q=list()\n",
        "  # split the sentence at \",\" add to list query\n",
        "  q.append(sentence.split(\",\"))\n",
        "  answer = tqa(table=table, query=q[0])\n",
        "  for ans in answer:\n",
        "      print(ans[\"answer\"])"
      ],
      "metadata": {
        "id": "sOUnAmjeUExB"
      },
      "execution_count": null,
      "outputs": []
    },
    {
      "cell_type": "code",
      "source": [
        "q_and_a()"
      ],
      "metadata": {
        "colab": {
          "base_uri": "https://localhost:8080/"
        },
        "id": "Kd_llmpCX78f",
        "outputId": "a7209c00-2a17-44dc-c7b0-78a3de949ae1"
      },
      "execution_count": null,
      "outputs": [
        {
          "output_type": "stream",
          "name": "stdout",
          "text": [
            "Your query:Who are all has More than 20 average?, Who has more average?\n",
            "Sachin Tendulkar, Virat Kohli, Jacques Kallis, Saurav Ganguly\n",
            "Virat Kohli\n"
          ]
        }
      ]
    },
    {
      "cell_type": "code",
      "source": [],
      "metadata": {
        "id": "yOmyklVBX-Ce"
      },
      "execution_count": null,
      "outputs": []
    }
  ]
}